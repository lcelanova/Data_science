{
 "cells": [
  {
   "cell_type": "code",
   "execution_count": null,
   "id": "8298ad4b",
   "metadata": {},
   "outputs": [],
   "source": [
    "#PRINTING"
   ]
  },
  {
   "cell_type": "code",
   "execution_count": 1,
   "id": "8321a2ff",
   "metadata": {},
   "outputs": [
    {
     "name": "stdout",
     "output_type": "stream",
     "text": [
      "Hello World!\n"
     ]
    }
   ],
   "source": [
    "#printing a message\n",
    "print(\"Hello World!\")"
   ]
  },
  {
   "cell_type": "code",
   "execution_count": 2,
   "id": "eb5e7bae",
   "metadata": {},
   "outputs": [
    {
     "data": {
      "text/plain": [
       "'Hello World!'"
      ]
     },
     "execution_count": 2,
     "metadata": {},
     "output_type": "execute_result"
    }
   ],
   "source": [
    "\"Hello World!\""
   ]
  },
  {
   "cell_type": "code",
   "execution_count": 3,
   "id": "1e43150b",
   "metadata": {},
   "outputs": [
    {
     "name": "stdout",
     "output_type": "stream",
     "text": [
      "Laura\n"
     ]
    }
   ],
   "source": [
    "#printing my name\n",
    "print(\"Laura\")"
   ]
  },
  {
   "cell_type": "code",
   "execution_count": null,
   "id": "b5ecf23b",
   "metadata": {},
   "outputs": [],
   "source": [
    "#DATATYPES"
   ]
  },
  {
   "cell_type": "code",
   "execution_count": 4,
   "id": "7a3f09e4",
   "metadata": {},
   "outputs": [
    {
     "data": {
      "text/plain": [
       "int"
      ]
     },
     "execution_count": 4,
     "metadata": {},
     "output_type": "execute_result"
    }
   ],
   "source": [
    "type(1)"
   ]
  },
  {
   "cell_type": "code",
   "execution_count": 7,
   "id": "bb0021d0",
   "metadata": {},
   "outputs": [
    {
     "data": {
      "text/plain": [
       "str"
      ]
     },
     "execution_count": 7,
     "metadata": {},
     "output_type": "execute_result"
    }
   ],
   "source": [
    "type(\"a\")"
   ]
  },
  {
   "cell_type": "code",
   "execution_count": 9,
   "id": "9e88e0d6",
   "metadata": {},
   "outputs": [
    {
     "data": {
      "text/plain": [
       "float"
      ]
     },
     "execution_count": 9,
     "metadata": {},
     "output_type": "execute_result"
    }
   ],
   "source": [
    "type(2.4)"
   ]
  },
  {
   "cell_type": "code",
   "execution_count": 12,
   "id": "e59416e5",
   "metadata": {},
   "outputs": [
    {
     "data": {
      "text/plain": [
       "0"
      ]
     },
     "execution_count": 12,
     "metadata": {},
     "output_type": "execute_result"
    }
   ],
   "source": [
    "4 % 2"
   ]
  },
  {
   "cell_type": "code",
   "execution_count": 13,
   "id": "bae6b4d2",
   "metadata": {},
   "outputs": [
    {
     "data": {
      "text/plain": [
       "bool"
      ]
     },
     "execution_count": 13,
     "metadata": {},
     "output_type": "execute_result"
    }
   ],
   "source": [
    "type(False)"
   ]
  },
  {
   "cell_type": "code",
   "execution_count": null,
   "id": "265e5e1a",
   "metadata": {},
   "outputs": [],
   "source": [
    "#STRINGS"
   ]
  },
  {
   "cell_type": "code",
   "execution_count": 14,
   "id": "caeeb813",
   "metadata": {},
   "outputs": [
    {
     "data": {
      "text/plain": [
       "'HELLO WORLD!'"
      ]
     },
     "execution_count": 14,
     "metadata": {},
     "output_type": "execute_result"
    }
   ],
   "source": [
    "\"Hello World!\".upper()"
   ]
  },
  {
   "cell_type": "code",
   "execution_count": 15,
   "id": "e2e52397",
   "metadata": {},
   "outputs": [
    {
     "data": {
      "text/plain": [
       "'hello world!'"
      ]
     },
     "execution_count": 15,
     "metadata": {},
     "output_type": "execute_result"
    }
   ],
   "source": [
    "\"Hello World!\".lower()"
   ]
  },
  {
   "cell_type": "code",
   "execution_count": 16,
   "id": "8be1b033",
   "metadata": {},
   "outputs": [
    {
     "data": {
      "text/plain": [
       "'Hello World!'"
      ]
     },
     "execution_count": 16,
     "metadata": {},
     "output_type": "execute_result"
    }
   ],
   "source": [
    "\"Hello World!\".title()"
   ]
  },
  {
   "cell_type": "code",
   "execution_count": 18,
   "id": "ef7c447c",
   "metadata": {},
   "outputs": [
    {
     "data": {
      "text/plain": [
       "3"
      ]
     },
     "execution_count": 18,
     "metadata": {},
     "output_type": "execute_result"
    }
   ],
   "source": [
    "\"Hello World!\".count('l')"
   ]
  },
  {
   "cell_type": "code",
   "execution_count": 20,
   "id": "3035c482",
   "metadata": {},
   "outputs": [
    {
     "data": {
      "text/plain": [
       "'Heuuo Worud!'"
      ]
     },
     "execution_count": 20,
     "metadata": {},
     "output_type": "execute_result"
    }
   ],
   "source": [
    "\"Hello World!\".replace('l', 'u')"
   ]
  },
  {
   "cell_type": "code",
   "execution_count": null,
   "id": "343dfb0d",
   "metadata": {},
   "outputs": [],
   "source": [
    "#VARIABLES"
   ]
  },
  {
   "cell_type": "code",
   "execution_count": 21,
   "id": "7a529736",
   "metadata": {},
   "outputs": [],
   "source": [
    "message1 = \"this is a string\""
   ]
  },
  {
   "cell_type": "code",
   "execution_count": 22,
   "id": "fb20d8c4",
   "metadata": {},
   "outputs": [
    {
     "data": {
      "text/plain": [
       "'this is a string'"
      ]
     },
     "execution_count": 22,
     "metadata": {},
     "output_type": "execute_result"
    }
   ],
   "source": [
    "message1"
   ]
  },
  {
   "cell_type": "code",
   "execution_count": 25,
   "id": "0e59536a",
   "metadata": {},
   "outputs": [],
   "source": [
    "message2 = \" and this is another string\""
   ]
  },
  {
   "cell_type": "code",
   "execution_count": 26,
   "id": "651007e3",
   "metadata": {},
   "outputs": [
    {
     "data": {
      "text/plain": [
       "'this is a string and this is another string'"
      ]
     },
     "execution_count": 26,
     "metadata": {},
     "output_type": "execute_result"
    }
   ],
   "source": [
    "message1 + message2"
   ]
  },
  {
   "cell_type": "code",
   "execution_count": 27,
   "id": "b305cd1d",
   "metadata": {},
   "outputs": [],
   "source": [
    "message3 = message1 + message2"
   ]
  },
  {
   "cell_type": "code",
   "execution_count": 28,
   "id": "a52aef8c",
   "metadata": {},
   "outputs": [
    {
     "data": {
      "text/plain": [
       "'this is a string and this is another string'"
      ]
     },
     "execution_count": 28,
     "metadata": {},
     "output_type": "execute_result"
    }
   ],
   "source": [
    "message3"
   ]
  },
  {
   "cell_type": "code",
   "execution_count": 29,
   "id": "5b725565",
   "metadata": {},
   "outputs": [
    {
     "data": {
      "text/plain": [
       "'this is a string'"
      ]
     },
     "execution_count": 29,
     "metadata": {},
     "output_type": "execute_result"
    }
   ],
   "source": [
    "f'this is a string'"
   ]
  },
  {
   "cell_type": "code",
   "execution_count": 32,
   "id": "09229194",
   "metadata": {},
   "outputs": [
    {
     "data": {
      "text/plain": [
       "'this is a string  and this is another string'"
      ]
     },
     "execution_count": 32,
     "metadata": {},
     "output_type": "execute_result"
    }
   ],
   "source": [
    "f'{message1} {message2}'"
   ]
  },
  {
   "cell_type": "code",
   "execution_count": null,
   "id": "f3e123c4",
   "metadata": {},
   "outputs": [],
   "source": [
    "#LISTS"
   ]
  },
  {
   "cell_type": "code",
   "execution_count": 33,
   "id": "f3534f87",
   "metadata": {},
   "outputs": [],
   "source": [
    "countries = ['US', 'China', 'Spain'] "
   ]
  },
  {
   "cell_type": "code",
   "execution_count": 34,
   "id": "3d61557c",
   "metadata": {},
   "outputs": [
    {
     "data": {
      "text/plain": [
       "['US', 'China', 'Spain']"
      ]
     },
     "execution_count": 34,
     "metadata": {},
     "output_type": "execute_result"
    }
   ],
   "source": [
    "countries"
   ]
  },
  {
   "cell_type": "code",
   "execution_count": 35,
   "id": "1297e7be",
   "metadata": {},
   "outputs": [
    {
     "data": {
      "text/plain": [
       "'China'"
      ]
     },
     "execution_count": 35,
     "metadata": {},
     "output_type": "execute_result"
    }
   ],
   "source": [
    "countries[1]"
   ]
  },
  {
   "cell_type": "code",
   "execution_count": 49,
   "id": "02a870a3",
   "metadata": {},
   "outputs": [
    {
     "data": {
      "text/plain": [
       "['US', 'China', 'Spain']"
      ]
     },
     "execution_count": 49,
     "metadata": {},
     "output_type": "execute_result"
    }
   ],
   "source": [
    "countries[0:]"
   ]
  },
  {
   "cell_type": "code",
   "execution_count": 50,
   "id": "13caa065",
   "metadata": {},
   "outputs": [
    {
     "data": {
      "text/plain": [
       "['US', 'China', 'Spain']"
      ]
     },
     "execution_count": 50,
     "metadata": {},
     "output_type": "execute_result"
    }
   ],
   "source": [
    "countries[:3]"
   ]
  },
  {
   "cell_type": "code",
   "execution_count": 51,
   "id": "d6e62991",
   "metadata": {},
   "outputs": [
    {
     "data": {
      "text/plain": [
       "['Spain']"
      ]
     },
     "execution_count": 51,
     "metadata": {},
     "output_type": "execute_result"
    }
   ],
   "source": [
    "countries[2:3]"
   ]
  },
  {
   "cell_type": "code",
   "execution_count": null,
   "id": "42eaded6",
   "metadata": {},
   "outputs": [],
   "source": [
    "#APPEND, INSERT"
   ]
  },
  {
   "cell_type": "code",
   "execution_count": 52,
   "id": "9cccaea8",
   "metadata": {},
   "outputs": [],
   "source": [
    "countries.append('Canada')"
   ]
  },
  {
   "cell_type": "code",
   "execution_count": 53,
   "id": "f7712715",
   "metadata": {},
   "outputs": [
    {
     "data": {
      "text/plain": [
       "['US', 'China', 'Spain', 'Canada']"
      ]
     },
     "execution_count": 53,
     "metadata": {},
     "output_type": "execute_result"
    }
   ],
   "source": [
    "countries"
   ]
  },
  {
   "cell_type": "code",
   "execution_count": 54,
   "id": "d648ab14",
   "metadata": {},
   "outputs": [],
   "source": [
    "countries.insert(0, 'Chile')"
   ]
  },
  {
   "cell_type": "code",
   "execution_count": 55,
   "id": "d6a96086",
   "metadata": {},
   "outputs": [
    {
     "data": {
      "text/plain": [
       "['Chile', 'US', 'China', 'Spain', 'Canada']"
      ]
     },
     "execution_count": 55,
     "metadata": {},
     "output_type": "execute_result"
    }
   ],
   "source": [
    "countries"
   ]
  },
  {
   "cell_type": "code",
   "execution_count": 57,
   "id": "3a33a16b",
   "metadata": {},
   "outputs": [],
   "source": [
    "countries2 = ['UK', 'Alemania', 'Rusia']"
   ]
  },
  {
   "cell_type": "code",
   "execution_count": 58,
   "id": "8ae38a45",
   "metadata": {},
   "outputs": [
    {
     "data": {
      "text/plain": [
       "['Chile', 'US', 'China', 'Spain', 'Canada', 'UK', 'Alemania', 'Rusia']"
      ]
     },
     "execution_count": 58,
     "metadata": {},
     "output_type": "execute_result"
    }
   ],
   "source": [
    "countries + countries2"
   ]
  },
  {
   "cell_type": "code",
   "execution_count": 59,
   "id": "2500f44c",
   "metadata": {},
   "outputs": [],
   "source": [
    "nuevalista = [countries, countries2]"
   ]
  },
  {
   "cell_type": "code",
   "execution_count": 60,
   "id": "fff863d3",
   "metadata": {},
   "outputs": [
    {
     "data": {
      "text/plain": [
       "[['Chile', 'US', 'China', 'Spain', 'Canada'], ['UK', 'Alemania', 'Rusia']]"
      ]
     },
     "execution_count": 60,
     "metadata": {},
     "output_type": "execute_result"
    }
   ],
   "source": [
    "nuevalista"
   ]
  },
  {
   "cell_type": "code",
   "execution_count": 61,
   "id": "124dd484",
   "metadata": {},
   "outputs": [],
   "source": [
    "countries.remove('Canada')"
   ]
  },
  {
   "cell_type": "code",
   "execution_count": 62,
   "id": "e529406b",
   "metadata": {},
   "outputs": [
    {
     "data": {
      "text/plain": [
       "['Chile', 'US', 'China', 'Spain']"
      ]
     },
     "execution_count": 62,
     "metadata": {},
     "output_type": "execute_result"
    }
   ],
   "source": [
    "countries"
   ]
  },
  {
   "cell_type": "code",
   "execution_count": 66,
   "id": "8c186207",
   "metadata": {},
   "outputs": [
    {
     "data": {
      "text/plain": [
       "'Spain'"
      ]
     },
     "execution_count": 66,
     "metadata": {},
     "output_type": "execute_result"
    }
   ],
   "source": [
    "countries.pop(2)"
   ]
  },
  {
   "cell_type": "code",
   "execution_count": 67,
   "id": "5992a20d",
   "metadata": {},
   "outputs": [
    {
     "data": {
      "text/plain": [
       "['Chile', 'US']"
      ]
     },
     "execution_count": 67,
     "metadata": {},
     "output_type": "execute_result"
    }
   ],
   "source": [
    "countries"
   ]
  },
  {
   "cell_type": "code",
   "execution_count": 69,
   "id": "37d29607",
   "metadata": {},
   "outputs": [
    {
     "data": {
      "text/plain": [
       "'US'"
      ]
     },
     "execution_count": 69,
     "metadata": {},
     "output_type": "execute_result"
    }
   ],
   "source": [
    "countries.pop(1)"
   ]
  },
  {
   "cell_type": "code",
   "execution_count": 70,
   "id": "be090806",
   "metadata": {},
   "outputs": [
    {
     "data": {
      "text/plain": [
       "['Chile']"
      ]
     },
     "execution_count": 70,
     "metadata": {},
     "output_type": "execute_result"
    }
   ],
   "source": [
    "countries"
   ]
  },
  {
   "cell_type": "code",
   "execution_count": 71,
   "id": "3473e6bf",
   "metadata": {},
   "outputs": [],
   "source": [
    "numbers = [0,4,6,2,10,7]"
   ]
  },
  {
   "cell_type": "code",
   "execution_count": 72,
   "id": "c56a77f8",
   "metadata": {},
   "outputs": [
    {
     "data": {
      "text/plain": [
       "[0, 4, 6, 2, 10, 7]"
      ]
     },
     "execution_count": 72,
     "metadata": {},
     "output_type": "execute_result"
    }
   ],
   "source": [
    "numbers"
   ]
  },
  {
   "cell_type": "code",
   "execution_count": 73,
   "id": "ee93cb11",
   "metadata": {},
   "outputs": [],
   "source": [
    "numbers.sort()"
   ]
  },
  {
   "cell_type": "code",
   "execution_count": 74,
   "id": "915c05df",
   "metadata": {},
   "outputs": [
    {
     "data": {
      "text/plain": [
       "[0, 2, 4, 6, 7, 10]"
      ]
     },
     "execution_count": 74,
     "metadata": {},
     "output_type": "execute_result"
    }
   ],
   "source": [
    "numbers"
   ]
  },
  {
   "cell_type": "code",
   "execution_count": 79,
   "id": "dd2a637c",
   "metadata": {},
   "outputs": [],
   "source": [
    "numbers.sort(reverse=True)"
   ]
  },
  {
   "cell_type": "code",
   "execution_count": 80,
   "id": "1187fe2f",
   "metadata": {},
   "outputs": [
    {
     "data": {
      "text/plain": [
       "[10, 7, 6, 4, 2, 0]"
      ]
     },
     "execution_count": 80,
     "metadata": {},
     "output_type": "execute_result"
    }
   ],
   "source": [
    "numbers"
   ]
  },
  {
   "cell_type": "code",
   "execution_count": 81,
   "id": "f59963ce",
   "metadata": {},
   "outputs": [],
   "source": [
    "numbers[0] = 1000"
   ]
  },
  {
   "cell_type": "code",
   "execution_count": 82,
   "id": "b82f6400",
   "metadata": {},
   "outputs": [
    {
     "data": {
      "text/plain": [
       "[1000, 7, 6, 4, 2, 0]"
      ]
     },
     "execution_count": 82,
     "metadata": {},
     "output_type": "execute_result"
    }
   ],
   "source": [
    "numbers"
   ]
  },
  {
   "cell_type": "code",
   "execution_count": null,
   "id": "9b8e1e78",
   "metadata": {},
   "outputs": [],
   "source": []
  },
  {
   "cell_type": "code",
   "execution_count": 86,
   "id": "81983b07",
   "metadata": {},
   "outputs": [],
   "source": [
    "countriesnew = countries[:]"
   ]
  },
  {
   "cell_type": "code",
   "execution_count": 87,
   "id": "d068f380",
   "metadata": {},
   "outputs": [
    {
     "data": {
      "text/plain": [
       "['Chile']"
      ]
     },
     "execution_count": 87,
     "metadata": {},
     "output_type": "execute_result"
    }
   ],
   "source": [
    "countriesnew"
   ]
  },
  {
   "cell_type": "code",
   "execution_count": null,
   "id": "558a924a",
   "metadata": {},
   "outputs": [],
   "source": [
    "#DICTIONARIES "
   ]
  },
  {
   "cell_type": "code",
   "execution_count": 88,
   "id": "01fefb16",
   "metadata": {},
   "outputs": [],
   "source": [
    "mydata = {'name':'Frank', 'age':26}"
   ]
  },
  {
   "cell_type": "code",
   "execution_count": 89,
   "id": "bdb292b7",
   "metadata": {},
   "outputs": [],
   "source": [
    "mydata['height'] = 170"
   ]
  },
  {
   "cell_type": "code",
   "execution_count": 90,
   "id": "7ebf1abb",
   "metadata": {},
   "outputs": [
    {
     "data": {
      "text/plain": [
       "{'nombre': 'Frank', 'edad': 26, 'estatura': 170}"
      ]
     },
     "execution_count": 90,
     "metadata": {},
     "output_type": "execute_result"
    }
   ],
   "source": [
    "mydata"
   ]
  },
  {
   "cell_type": "code",
   "execution_count": 91,
   "id": "9746e05f",
   "metadata": {},
   "outputs": [
    {
     "data": {
      "text/plain": [
       "dict_values(['Frank', 26, 170])"
      ]
     },
     "execution_count": 91,
     "metadata": {},
     "output_type": "execute_result"
    }
   ],
   "source": [
    "mydata.values()"
   ]
  },
  {
   "cell_type": "code",
   "execution_count": 92,
   "id": "824af1a0",
   "metadata": {},
   "outputs": [],
   "source": [
    "mydata.update({'estatura':175})"
   ]
  },
  {
   "cell_type": "code",
   "execution_count": 93,
   "id": "53ad0e3e",
   "metadata": {},
   "outputs": [
    {
     "data": {
      "text/plain": [
       "{'nombre': 'Frank', 'edad': 26, 'estatura': 175}"
      ]
     },
     "execution_count": 93,
     "metadata": {},
     "output_type": "execute_result"
    }
   ],
   "source": [
    "mydata"
   ]
  },
  {
   "cell_type": "code",
   "execution_count": 111,
   "id": "26f2eea1",
   "metadata": {},
   "outputs": [],
   "source": [
    "mydata.update({'height':177})"
   ]
  },
  {
   "cell_type": "code",
   "execution_count": 95,
   "id": "46bc9187",
   "metadata": {},
   "outputs": [
    {
     "data": {
      "text/plain": [
       "{'nombre': 'Frank', 'edad': 26, 'estatura': 175, 'height': 175}"
      ]
     },
     "execution_count": 95,
     "metadata": {},
     "output_type": "execute_result"
    }
   ],
   "source": [
    "mydata"
   ]
  },
  {
   "cell_type": "code",
   "execution_count": 97,
   "id": "b7100bd4",
   "metadata": {},
   "outputs": [],
   "source": [
    "mydata.update({'estatura':175, 'language':['spanish', 'english']})"
   ]
  },
  {
   "cell_type": "code",
   "execution_count": 98,
   "id": "e19610b1",
   "metadata": {},
   "outputs": [
    {
     "data": {
      "text/plain": [
       "{'nombre': 'Frank',\n",
       " 'edad': 26,\n",
       " 'estatura': 175,\n",
       " 'height': 175,\n",
       " 'language': ['spanish', 'english']}"
      ]
     },
     "execution_count": 98,
     "metadata": {},
     "output_type": "execute_result"
    }
   ],
   "source": [
    "mydata"
   ]
  },
  {
   "cell_type": "code",
   "execution_count": 100,
   "id": "08925c0e",
   "metadata": {},
   "outputs": [],
   "source": [
    "newdata = mydata.copy()"
   ]
  },
  {
   "cell_type": "code",
   "execution_count": 101,
   "id": "850793d5",
   "metadata": {},
   "outputs": [
    {
     "data": {
      "text/plain": [
       "{'nombre': 'Frank',\n",
       " 'edad': 26,\n",
       " 'estatura': 175,\n",
       " 'height': 175,\n",
       " 'language': ['spanish', 'english']}"
      ]
     },
     "execution_count": 101,
     "metadata": {},
     "output_type": "execute_result"
    }
   ],
   "source": [
    "newdata"
   ]
  },
  {
   "cell_type": "code",
   "execution_count": null,
   "id": "5a3a75d3",
   "metadata": {},
   "outputs": [],
   "source": [
    "#CONDITIONALS"
   ]
  },
  {
   "cell_type": "code",
   "execution_count": 109,
   "id": "744cc297",
   "metadata": {},
   "outputs": [],
   "source": [
    "edad = 1\n"
   ]
  },
  {
   "cell_type": "code",
   "execution_count": 110,
   "id": "e89c8be2",
   "metadata": {},
   "outputs": [
    {
     "name": "stdout",
     "output_type": "stream",
     "text": [
      "Todler\n"
     ]
    }
   ],
   "source": [
    "if edad > 18:\n",
    "    print(\"Adult\")\n",
    "elif edad > 15:\n",
    "    print(\"Teenager\")\n",
    "else:\n",
    "    print(\"Todler\")\n",
    "    "
   ]
  },
  {
   "cell_type": "code",
   "execution_count": 114,
   "id": "df28aa0a",
   "metadata": {},
   "outputs": [
    {
     "name": "stdout",
     "output_type": "stream",
     "text": [
      "China is not on the list\n"
     ]
    }
   ],
   "source": [
    "if 'China' in countriesnew:\n",
    "    print('China is on the list countries')\n",
    "else:\n",
    "    print('China is not on the list')"
   ]
  },
  {
   "cell_type": "code",
   "execution_count": null,
   "id": "8201f914",
   "metadata": {},
   "outputs": [],
   "source": [
    "#LOOPS"
   ]
  },
  {
   "cell_type": "code",
   "execution_count": 120,
   "id": "25f0c566",
   "metadata": {},
   "outputs": [
    {
     "name": "stdout",
     "output_type": "stream",
     "text": [
      "Chile\n"
     ]
    }
   ],
   "source": [
    "for country in countries:\n",
    "    print(country)"
   ]
  },
  {
   "cell_type": "code",
   "execution_count": 124,
   "id": "59c9d1a3",
   "metadata": {},
   "outputs": [
    {
     "name": "stdout",
     "output_type": "stream",
     "text": [
      "Chile\n"
     ]
    }
   ],
   "source": [
    "for country in countries:\n",
    "    if country == 'Chile':\n",
    "        print(country)"
   ]
  },
  {
   "cell_type": "code",
   "execution_count": 125,
   "id": "4e799ebe",
   "metadata": {},
   "outputs": [
    {
     "name": "stdout",
     "output_type": "stream",
     "text": [
      "0\n",
      "Chile\n"
     ]
    }
   ],
   "source": [
    "for number, country in enumerate (countries):\n",
    "    print(number)\n",
    "    print(country)\n",
    "    "
   ]
  },
  {
   "cell_type": "code",
   "execution_count": 127,
   "id": "14449f99",
   "metadata": {},
   "outputs": [
    {
     "name": "stdout",
     "output_type": "stream",
     "text": [
      "nombre\n",
      "Frank\n",
      "edad\n",
      "26\n",
      "estatura\n",
      "175\n",
      "height\n",
      "177\n",
      "language\n",
      "['spanish', 'english']\n"
     ]
    }
   ],
   "source": [
    "for key, value in mydata.items():\n",
    "    print(key)\n",
    "    print(value)"
   ]
  },
  {
   "cell_type": "code",
   "execution_count": null,
   "id": "2e1bf0ca",
   "metadata": {},
   "outputs": [],
   "source": [
    "#FUNCTIONS"
   ]
  },
  {
   "cell_type": "code",
   "execution_count": 128,
   "id": "71cfc18f",
   "metadata": {},
   "outputs": [
    {
     "data": {
      "text/plain": [
       "3"
      ]
     },
     "execution_count": 128,
     "metadata": {},
     "output_type": "execute_result"
    }
   ],
   "source": [
    "len(countries2)"
   ]
  },
  {
   "cell_type": "code",
   "execution_count": 131,
   "id": "1f394c44",
   "metadata": {},
   "outputs": [
    {
     "name": "stdout",
     "output_type": "stream",
     "text": [
      "U\n",
      "K\n",
      "A\n",
      "l\n",
      "e\n",
      "m\n",
      "a\n",
      "n\n",
      "i\n",
      "a\n",
      "R\n",
      "u\n",
      "s\n",
      "i\n",
      "a\n"
     ]
    }
   ],
   "source": [
    "for country in countries2:\n",
    "    for letter in country:\n",
    "        print(letter)"
   ]
  },
  {
   "cell_type": "code",
   "execution_count": 133,
   "id": "87da92db",
   "metadata": {},
   "outputs": [
    {
     "data": {
      "text/plain": [
       "90"
      ]
     },
     "execution_count": 133,
     "metadata": {},
     "output_type": "execute_result"
    }
   ],
   "source": [
    "max([14,34,1,2,90])"
   ]
  },
  {
   "cell_type": "code",
   "execution_count": 134,
   "id": "784d08c3",
   "metadata": {},
   "outputs": [
    {
     "data": {
      "text/plain": [
       "1"
      ]
     },
     "execution_count": 134,
     "metadata": {},
     "output_type": "execute_result"
    }
   ],
   "source": [
    "min([14,34,1,2,90])"
   ]
  },
  {
   "cell_type": "code",
   "execution_count": 135,
   "id": "3b5ff2ab",
   "metadata": {},
   "outputs": [
    {
     "data": {
      "text/plain": [
       "list"
      ]
     },
     "execution_count": 135,
     "metadata": {},
     "output_type": "execute_result"
    }
   ],
   "source": [
    "type(countries)"
   ]
  },
  {
   "cell_type": "code",
   "execution_count": 136,
   "id": "a4ea0c2b",
   "metadata": {},
   "outputs": [
    {
     "data": {
      "text/plain": [
       "dict"
      ]
     },
     "execution_count": 136,
     "metadata": {},
     "output_type": "execute_result"
    }
   ],
   "source": [
    "type(mydata)"
   ]
  },
  {
   "cell_type": "code",
   "execution_count": 139,
   "id": "86b4d3ce",
   "metadata": {},
   "outputs": [
    {
     "data": {
      "text/plain": [
       "2.33"
      ]
     },
     "execution_count": 139,
     "metadata": {},
     "output_type": "execute_result"
    }
   ],
   "source": [
    "round(2.333,2)"
   ]
  },
  {
   "cell_type": "code",
   "execution_count": 141,
   "id": "565bb39a",
   "metadata": {},
   "outputs": [
    {
     "name": "stdout",
     "output_type": "stream",
     "text": [
      "1\n",
      "3\n",
      "5\n",
      "7\n",
      "9\n"
     ]
    }
   ],
   "source": [
    "for i in range(1, 10, 2):\n",
    "    print(i)"
   ]
  },
  {
   "cell_type": "code",
   "execution_count": null,
   "id": "5b6ad11a",
   "metadata": {},
   "outputs": [],
   "source": [
    "#CREATE A FUNCTION"
   ]
  },
  {
   "cell_type": "code",
   "execution_count": 142,
   "id": "6ec7eeb2",
   "metadata": {},
   "outputs": [],
   "source": [
    "def sum_numbers(a,b):\n",
    "    return a + b"
   ]
  },
  {
   "cell_type": "code",
   "execution_count": 143,
   "id": "cba4b05d",
   "metadata": {},
   "outputs": [
    {
     "data": {
      "text/plain": [
       "6"
      ]
     },
     "execution_count": 143,
     "metadata": {},
     "output_type": "execute_result"
    }
   ],
   "source": [
    "sum_numbers(1,5)"
   ]
  },
  {
   "cell_type": "code",
   "execution_count": null,
   "id": "bb84a85b",
   "metadata": {},
   "outputs": [],
   "source": [
    "#MODULES"
   ]
  },
  {
   "cell_type": "code",
   "execution_count": 144,
   "id": "4f434ef9",
   "metadata": {},
   "outputs": [],
   "source": [
    "import os"
   ]
  },
  {
   "cell_type": "code",
   "execution_count": 145,
   "id": "84189ccf",
   "metadata": {},
   "outputs": [
    {
     "data": {
      "text/plain": [
       "'/Users/lauram'"
      ]
     },
     "execution_count": 145,
     "metadata": {},
     "output_type": "execute_result"
    }
   ],
   "source": [
    "os.getcwd()"
   ]
  },
  {
   "cell_type": "code",
   "execution_count": 147,
   "id": "ea267124",
   "metadata": {},
   "outputs": [
    {
     "data": {
      "text/plain": [
       "['.config',\n",
       " 'Music',\n",
       " '.condarc',\n",
       " '.vim',\n",
       " '.DS_Store',\n",
       " '.CFUserTextEncoding',\n",
       " '.xonshrc',\n",
       " 'Untitled.ipynb',\n",
       " 'spider_tutorial',\n",
       " '.zshrc',\n",
       " 'Pictures',\n",
       " '.zprofile',\n",
       " '.zsh_history',\n",
       " '.ipython',\n",
       " 'Desktop',\n",
       " 'Library',\n",
       " '.lesshst',\n",
       " 'Public',\n",
       " '.idlerc',\n",
       " '.tcshrc',\n",
       " '.anaconda',\n",
       " '.ssh',\n",
       " 'Movies',\n",
       " 'Applications',\n",
       " 'opt',\n",
       " '.Trash',\n",
       " '.ipynb_checkpoints',\n",
       " 'Documents',\n",
       " '.vscode',\n",
       " '.bash_profile',\n",
       " 'Downloads',\n",
       " '.continuum',\n",
       " '.cache',\n",
       " '.gitconfig',\n",
       " '.viminfo',\n",
       " '.zsh_sessions',\n",
       " '.conda']"
      ]
     },
     "execution_count": 147,
     "metadata": {},
     "output_type": "execute_result"
    }
   ],
   "source": [
    "os.listdir()"
   ]
  },
  {
   "cell_type": "code",
   "execution_count": 148,
   "id": "270e7c56",
   "metadata": {},
   "outputs": [],
   "source": [
    "os.makedirs(\"nwefile\")"
   ]
  },
  {
   "cell_type": "code",
   "execution_count": 149,
   "id": "16513b2e",
   "metadata": {},
   "outputs": [
    {
     "data": {
      "text/plain": [
       "['.config',\n",
       " 'Music',\n",
       " '.condarc',\n",
       " '.vim',\n",
       " '.DS_Store',\n",
       " '.CFUserTextEncoding',\n",
       " '.xonshrc',\n",
       " 'Untitled.ipynb',\n",
       " 'spider_tutorial',\n",
       " '.zshrc',\n",
       " 'Pictures',\n",
       " '.zprofile',\n",
       " '.zsh_history',\n",
       " '.ipython',\n",
       " 'Desktop',\n",
       " 'Library',\n",
       " '.lesshst',\n",
       " 'nwefile',\n",
       " 'Public',\n",
       " '.idlerc',\n",
       " '.tcshrc',\n",
       " '.anaconda',\n",
       " '.ssh',\n",
       " 'Movies',\n",
       " 'Applications',\n",
       " 'opt',\n",
       " '.Trash',\n",
       " '.ipynb_checkpoints',\n",
       " 'Documents',\n",
       " '.vscode',\n",
       " '.bash_profile',\n",
       " 'Downloads',\n",
       " '.continuum',\n",
       " '.cache',\n",
       " '.gitconfig',\n",
       " '.viminfo',\n",
       " '.zsh_sessions',\n",
       " '.conda']"
      ]
     },
     "execution_count": 149,
     "metadata": {},
     "output_type": "execute_result"
    }
   ],
   "source": [
    "os.listdir()"
   ]
  }
 ],
 "metadata": {
  "kernelspec": {
   "display_name": "Python 3 (ipykernel)",
   "language": "python",
   "name": "python3"
  },
  "language_info": {
   "codemirror_mode": {
    "name": "ipython",
    "version": 3
   },
   "file_extension": ".py",
   "mimetype": "text/x-python",
   "name": "python",
   "nbconvert_exporter": "python",
   "pygments_lexer": "ipython3",
   "version": "3.9.13"
  }
 },
 "nbformat": 4,
 "nbformat_minor": 5
}
